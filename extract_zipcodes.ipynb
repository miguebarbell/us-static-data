{
 "cells": [
  {
   "metadata": {
    "jupyter": {
     "is_executing": true
    }
   },
   "cell_type": "code",
   "source": [
    "import pandas as pd\n",
    "import json\n",
    "import os\n",
    "from dotenv import load_dotenv\n",
    "\n",
    "load_dotenv()\n",
    "\n",
    "csv_path = os.getenv('USZIPS_CSV_PATH')\n",
    "df_zipcode = pd.read_csv(csv_path).loc[:, [\"zip\", \"city\", \"state_id\"]]"
   ],
   "id": "217dfe377f150c24",
   "outputs": [],
   "execution_count": null
  },
  {
   "metadata": {},
   "cell_type": "code",
   "outputs": [],
   "execution_count": null,
   "source": "out_folder = 'out'",
   "id": "66c127ea43742d31"
  },
  {
   "metadata": {
    "ExecuteTime": {
     "end_time": "2025-07-22T13:55:18.935409Z",
     "start_time": "2025-07-22T13:55:18.573860Z"
    }
   },
   "cell_type": "code",
   "source": [
    "\n",
    "for state_id in df_zipcode['state_id'].unique():\n",
    "    state_df = df_zipcode[df_zipcode['state_id'] == state_id]\n",
    "    city_zip_map = state_df.groupby('city')['zip'].apply(list).to_dict()\n",
    "\n",
    "    file_name = f'{out_folder}/{state_id}.json'\n",
    "    with open(file_name, 'w') as json_file:\n",
    "        json.dump(city_zip_map, json_file, indent=4)\n",
    "        print(f\"Created file: {file_name}\")"
   ],
   "id": "f8f64894cfe097d4",
   "outputs": [
    {
     "name": "stdout",
     "output_type": "stream",
     "text": [
      "Created file: PR.json\n",
      "Created file: VI.json\n",
      "Created file: MA.json\n",
      "Created file: RI.json\n",
      "Created file: NH.json\n",
      "Created file: ME.json\n",
      "Created file: VT.json\n",
      "Created file: CT.json\n",
      "Created file: NY.json\n",
      "Created file: NJ.json\n",
      "Created file: PA.json\n",
      "Created file: DE.json\n",
      "Created file: DC.json\n",
      "Created file: VA.json\n",
      "Created file: MD.json\n",
      "Created file: WV.json\n",
      "Created file: NC.json\n",
      "Created file: SC.json\n",
      "Created file: GA.json\n",
      "Created file: FL.json\n",
      "Created file: AL.json\n",
      "Created file: TN.json\n",
      "Created file: MS.json\n",
      "Created file: KY.json\n",
      "Created file: OH.json\n",
      "Created file: IN.json\n",
      "Created file: MI.json\n",
      "Created file: IA.json\n",
      "Created file: WI.json\n",
      "Created file: MN.json\n",
      "Created file: SD.json\n",
      "Created file: ND.json\n",
      "Created file: MT.json\n",
      "Created file: IL.json\n",
      "Created file: MO.json\n",
      "Created file: KS.json\n",
      "Created file: NE.json\n",
      "Created file: LA.json\n",
      "Created file: AR.json\n",
      "Created file: OK.json\n",
      "Created file: TX.json\n",
      "Created file: CO.json\n",
      "Created file: WY.json\n",
      "Created file: ID.json\n",
      "Created file: UT.json\n",
      "Created file: AZ.json\n",
      "Created file: NM.json\n",
      "Created file: NV.json\n",
      "Created file: CA.json\n",
      "Created file: HI.json\n",
      "Created file: AS.json\n",
      "Created file: GU.json\n",
      "Created file: MP.json\n",
      "Created file: OR.json\n",
      "Created file: WA.json\n",
      "Created file: AK.json\n"
     ]
    }
   ],
   "execution_count": 24
  }
 ],
 "metadata": {
  "kernelspec": {
   "display_name": "Python 3",
   "language": "python",
   "name": "python3"
  },
  "language_info": {
   "codemirror_mode": {
    "name": "ipython",
    "version": 2
   },
   "file_extension": ".py",
   "mimetype": "text/x-python",
   "name": "python",
   "nbconvert_exporter": "python",
   "pygments_lexer": "ipython2",
   "version": "2.7.6"
  }
 },
 "nbformat": 4,
 "nbformat_minor": 5
}
