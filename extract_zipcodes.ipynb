{
 "cells": [
  {
   "metadata": {
    "ExecuteTime": {
     "end_time": "2025-08-27T15:43:59.395177Z",
     "start_time": "2025-08-27T15:43:59.278585Z"
    }
   },
   "cell_type": "code",
   "source": [
    "import modin.pandas as pd\n",
    "import json\n",
    "import os\n",
    "from dotenv import load_dotenv\n",
    "\n",
    "load_dotenv()\n",
    "\n",
    "csv_path = os.getenv('USZIPS_CSV_PATH')\n",
    "df_zipcode = pd.read_csv(csv_path).loc[:, [\"zip\", \"city\", \"state_id\"]]\n",
    "df_zipcode.head()"
   ],
   "id": "217dfe377f150c24",
   "outputs": [
    {
     "data": {
      "text/plain": [
       "   zip       city state_id\n",
       "0  601   Adjuntas       PR\n",
       "1  602     Aguada       PR\n",
       "2  603  Aguadilla       PR\n",
       "3  606    Maricao       PR\n",
       "4  610     Anasco       PR"
      ],
      "text/html": [
       "<div>\n",
       "<style scoped>\n",
       "    .dataframe tbody tr th:only-of-type {\n",
       "        vertical-align: middle;\n",
       "    }\n",
       "\n",
       "    .dataframe tbody tr th {\n",
       "        vertical-align: top;\n",
       "    }\n",
       "\n",
       "    .dataframe thead th {\n",
       "        text-align: right;\n",
       "    }\n",
       "</style>\n",
       "<table border=\"1\" class=\"dataframe\">\n",
       "  <thead>\n",
       "    <tr style=\"text-align: right;\">\n",
       "      <th></th>\n",
       "      <th>zip</th>\n",
       "      <th>city</th>\n",
       "      <th>state_id</th>\n",
       "    </tr>\n",
       "  </thead>\n",
       "  <tbody>\n",
       "    <tr>\n",
       "      <th>0</th>\n",
       "      <td>601</td>\n",
       "      <td>Adjuntas</td>\n",
       "      <td>PR</td>\n",
       "    </tr>\n",
       "    <tr>\n",
       "      <th>1</th>\n",
       "      <td>602</td>\n",
       "      <td>Aguada</td>\n",
       "      <td>PR</td>\n",
       "    </tr>\n",
       "    <tr>\n",
       "      <th>2</th>\n",
       "      <td>603</td>\n",
       "      <td>Aguadilla</td>\n",
       "      <td>PR</td>\n",
       "    </tr>\n",
       "    <tr>\n",
       "      <th>3</th>\n",
       "      <td>606</td>\n",
       "      <td>Maricao</td>\n",
       "      <td>PR</td>\n",
       "    </tr>\n",
       "    <tr>\n",
       "      <th>4</th>\n",
       "      <td>610</td>\n",
       "      <td>Anasco</td>\n",
       "      <td>PR</td>\n",
       "    </tr>\n",
       "  </tbody>\n",
       "</table>\n",
       "</div>"
      ]
     },
     "execution_count": 8,
     "metadata": {},
     "output_type": "execute_result"
    }
   ],
   "execution_count": 8
  },
  {
   "metadata": {
    "ExecuteTime": {
     "end_time": "2025-08-27T15:39:05.891684Z",
     "start_time": "2025-08-27T15:39:05.889007Z"
    }
   },
   "cell_type": "code",
   "source": [
    "out_folder = 'out'\n",
    "os.makedirs(out_folder, exist_ok=True)"
   ],
   "id": "66c127ea43742d31",
   "outputs": [],
   "execution_count": 5
  },
  {
   "metadata": {
    "ExecuteTime": {
     "end_time": "2025-08-27T15:43:09.414377Z",
     "start_time": "2025-08-27T15:43:03.734692Z"
    }
   },
   "cell_type": "code",
   "source": [
    "\n",
    "# Create a dictionary of city to zip code for each state\n",
    "state_out_folder = f'{out_folder}/state'\n",
    "os.makedirs(state_out_folder, exist_ok=True)\n",
    "for state_id in df_zipcode['state_id'].unique():\n",
    "    state_df = df_zipcode[df_zipcode['state_id'] == state_id]\n",
    "    city_zip_map = state_df.groupby('city')['zip'].apply(list).to_dict()\n",
    "\n",
    "    file_name = f'{state_out_folder}/{state_id}.json'\n",
    "    with open(file_name, 'w') as json_file:\n",
    "        json.dump(city_zip_map, json_file, indent=4)\n",
    "        print(f\"Created file: {file_name}\")"
   ],
   "id": "f8f64894cfe097d4",
   "outputs": [
    {
     "name": "stderr",
     "output_type": "stream",
     "text": [
      "UserWarning: <function Series.to_dict> is not currently supported by PandasOnRay, defaulting to pandas implementation.\n",
      "UserWarning: <function Series.to_dict> is not currently supported by PandasOnRay, defaulting to pandas implementation.\n",
      "UserWarning: <function Series.to_dict> is not currently supported by PandasOnRay, defaulting to pandas implementation.\n"
     ]
    },
    {
     "name": "stdout",
     "output_type": "stream",
     "text": [
      "Created file: out/state/PR.json\n",
      "Created file: out/state/VI.json\n",
      "Created file: out/state/MA.json\n"
     ]
    },
    {
     "name": "stderr",
     "output_type": "stream",
     "text": [
      "UserWarning: <function Series.to_dict> is not currently supported by PandasOnRay, defaulting to pandas implementation.\n",
      "UserWarning: <function Series.to_dict> is not currently supported by PandasOnRay, defaulting to pandas implementation.\n"
     ]
    },
    {
     "name": "stdout",
     "output_type": "stream",
     "text": [
      "Created file: out/state/RI.json\n",
      "Created file: out/state/NH.json\n"
     ]
    },
    {
     "name": "stderr",
     "output_type": "stream",
     "text": [
      "UserWarning: <function Series.to_dict> is not currently supported by PandasOnRay, defaulting to pandas implementation.\n",
      "UserWarning: <function Series.to_dict> is not currently supported by PandasOnRay, defaulting to pandas implementation.\n"
     ]
    },
    {
     "name": "stdout",
     "output_type": "stream",
     "text": [
      "Created file: out/state/ME.json\n",
      "Created file: out/state/VT.json\n"
     ]
    },
    {
     "name": "stderr",
     "output_type": "stream",
     "text": [
      "UserWarning: <function Series.to_dict> is not currently supported by PandasOnRay, defaulting to pandas implementation.\n",
      "UserWarning: <function Series.to_dict> is not currently supported by PandasOnRay, defaulting to pandas implementation.\n"
     ]
    },
    {
     "name": "stdout",
     "output_type": "stream",
     "text": [
      "Created file: out/state/CT.json\n",
      "Created file: out/state/NY.json\n"
     ]
    },
    {
     "name": "stderr",
     "output_type": "stream",
     "text": [
      "UserWarning: <function Series.to_dict> is not currently supported by PandasOnRay, defaulting to pandas implementation.\n",
      "UserWarning: <function Series.to_dict> is not currently supported by PandasOnRay, defaulting to pandas implementation.\n"
     ]
    },
    {
     "name": "stdout",
     "output_type": "stream",
     "text": [
      "Created file: out/state/NJ.json\n",
      "Created file: out/state/PA.json\n"
     ]
    },
    {
     "name": "stderr",
     "output_type": "stream",
     "text": [
      "UserWarning: <function Series.to_dict> is not currently supported by PandasOnRay, defaulting to pandas implementation.\n",
      "UserWarning: <function Series.to_dict> is not currently supported by PandasOnRay, defaulting to pandas implementation.\n"
     ]
    },
    {
     "name": "stdout",
     "output_type": "stream",
     "text": [
      "Created file: out/state/DE.json\n",
      "Created file: out/state/DC.json\n"
     ]
    },
    {
     "name": "stderr",
     "output_type": "stream",
     "text": [
      "UserWarning: <function Series.to_dict> is not currently supported by PandasOnRay, defaulting to pandas implementation.\n",
      "UserWarning: <function Series.to_dict> is not currently supported by PandasOnRay, defaulting to pandas implementation.\n"
     ]
    },
    {
     "name": "stdout",
     "output_type": "stream",
     "text": [
      "Created file: out/state/VA.json\n",
      "Created file: out/state/MD.json\n"
     ]
    },
    {
     "name": "stderr",
     "output_type": "stream",
     "text": [
      "UserWarning: <function Series.to_dict> is not currently supported by PandasOnRay, defaulting to pandas implementation.\n",
      "UserWarning: <function Series.to_dict> is not currently supported by PandasOnRay, defaulting to pandas implementation.\n",
      "UserWarning: <function Series.to_dict> is not currently supported by PandasOnRay, defaulting to pandas implementation.\n"
     ]
    },
    {
     "name": "stdout",
     "output_type": "stream",
     "text": [
      "Created file: out/state/WV.json\n",
      "Created file: out/state/NC.json\n",
      "Created file: out/state/SC.json\n"
     ]
    },
    {
     "name": "stderr",
     "output_type": "stream",
     "text": [
      "UserWarning: <function Series.to_dict> is not currently supported by PandasOnRay, defaulting to pandas implementation.\n",
      "UserWarning: <function Series.to_dict> is not currently supported by PandasOnRay, defaulting to pandas implementation.\n",
      "UserWarning: <function Series.to_dict> is not currently supported by PandasOnRay, defaulting to pandas implementation.\n"
     ]
    },
    {
     "name": "stdout",
     "output_type": "stream",
     "text": [
      "Created file: out/state/GA.json\n",
      "Created file: out/state/FL.json\n",
      "Created file: out/state/AL.json\n"
     ]
    },
    {
     "name": "stderr",
     "output_type": "stream",
     "text": [
      "UserWarning: <function Series.to_dict> is not currently supported by PandasOnRay, defaulting to pandas implementation.\n",
      "UserWarning: <function Series.to_dict> is not currently supported by PandasOnRay, defaulting to pandas implementation.\n",
      "UserWarning: <function Series.to_dict> is not currently supported by PandasOnRay, defaulting to pandas implementation.\n"
     ]
    },
    {
     "name": "stdout",
     "output_type": "stream",
     "text": [
      "Created file: out/state/TN.json\n",
      "Created file: out/state/MS.json\n",
      "Created file: out/state/KY.json\n"
     ]
    },
    {
     "name": "stderr",
     "output_type": "stream",
     "text": [
      "UserWarning: <function Series.to_dict> is not currently supported by PandasOnRay, defaulting to pandas implementation.\n",
      "UserWarning: <function Series.to_dict> is not currently supported by PandasOnRay, defaulting to pandas implementation.\n",
      "UserWarning: <function Series.to_dict> is not currently supported by PandasOnRay, defaulting to pandas implementation.\n"
     ]
    },
    {
     "name": "stdout",
     "output_type": "stream",
     "text": [
      "Created file: out/state/OH.json\n",
      "Created file: out/state/IN.json\n",
      "Created file: out/state/MI.json\n"
     ]
    },
    {
     "name": "stderr",
     "output_type": "stream",
     "text": [
      "UserWarning: <function Series.to_dict> is not currently supported by PandasOnRay, defaulting to pandas implementation.\n",
      "UserWarning: <function Series.to_dict> is not currently supported by PandasOnRay, defaulting to pandas implementation.\n",
      "UserWarning: <function Series.to_dict> is not currently supported by PandasOnRay, defaulting to pandas implementation.\n"
     ]
    },
    {
     "name": "stdout",
     "output_type": "stream",
     "text": [
      "Created file: out/state/IA.json\n",
      "Created file: out/state/WI.json\n",
      "Created file: out/state/MN.json\n"
     ]
    },
    {
     "name": "stderr",
     "output_type": "stream",
     "text": [
      "UserWarning: <function Series.to_dict> is not currently supported by PandasOnRay, defaulting to pandas implementation.\n",
      "UserWarning: <function Series.to_dict> is not currently supported by PandasOnRay, defaulting to pandas implementation.\n",
      "UserWarning: <function Series.to_dict> is not currently supported by PandasOnRay, defaulting to pandas implementation.\n"
     ]
    },
    {
     "name": "stdout",
     "output_type": "stream",
     "text": [
      "Created file: out/state/SD.json\n",
      "Created file: out/state/ND.json\n",
      "Created file: out/state/MT.json\n"
     ]
    },
    {
     "name": "stderr",
     "output_type": "stream",
     "text": [
      "UserWarning: <function Series.to_dict> is not currently supported by PandasOnRay, defaulting to pandas implementation.\n",
      "UserWarning: <function Series.to_dict> is not currently supported by PandasOnRay, defaulting to pandas implementation.\n",
      "UserWarning: <function Series.to_dict> is not currently supported by PandasOnRay, defaulting to pandas implementation.\n"
     ]
    },
    {
     "name": "stdout",
     "output_type": "stream",
     "text": [
      "Created file: out/state/IL.json\n",
      "Created file: out/state/MO.json\n",
      "Created file: out/state/KS.json\n"
     ]
    },
    {
     "name": "stderr",
     "output_type": "stream",
     "text": [
      "UserWarning: <function Series.to_dict> is not currently supported by PandasOnRay, defaulting to pandas implementation.\n",
      "UserWarning: <function Series.to_dict> is not currently supported by PandasOnRay, defaulting to pandas implementation.\n"
     ]
    },
    {
     "name": "stdout",
     "output_type": "stream",
     "text": [
      "Created file: out/state/NE.json\n",
      "Created file: out/state/LA.json\n",
      "Created file: out/state/AR.json\n"
     ]
    },
    {
     "name": "stderr",
     "output_type": "stream",
     "text": [
      "UserWarning: <function Series.to_dict> is not currently supported by PandasOnRay, defaulting to pandas implementation.\n",
      "UserWarning: <function Series.to_dict> is not currently supported by PandasOnRay, defaulting to pandas implementation.\n",
      "UserWarning: <function Series.to_dict> is not currently supported by PandasOnRay, defaulting to pandas implementation.\n"
     ]
    },
    {
     "name": "stdout",
     "output_type": "stream",
     "text": [
      "Created file: out/state/OK.json\n",
      "Created file: out/state/TX.json\n",
      "Created file: out/state/CO.json\n"
     ]
    },
    {
     "name": "stderr",
     "output_type": "stream",
     "text": [
      "UserWarning: <function Series.to_dict> is not currently supported by PandasOnRay, defaulting to pandas implementation.\n",
      "UserWarning: <function Series.to_dict> is not currently supported by PandasOnRay, defaulting to pandas implementation.\n",
      "UserWarning: <function Series.to_dict> is not currently supported by PandasOnRay, defaulting to pandas implementation.\n"
     ]
    },
    {
     "name": "stdout",
     "output_type": "stream",
     "text": [
      "Created file: out/state/WY.json\n",
      "Created file: out/state/ID.json\n"
     ]
    },
    {
     "name": "stderr",
     "output_type": "stream",
     "text": [
      "UserWarning: <function Series.to_dict> is not currently supported by PandasOnRay, defaulting to pandas implementation.\n",
      "UserWarning: <function Series.to_dict> is not currently supported by PandasOnRay, defaulting to pandas implementation.\n",
      "UserWarning: <function Series.to_dict> is not currently supported by PandasOnRay, defaulting to pandas implementation.\n"
     ]
    },
    {
     "name": "stdout",
     "output_type": "stream",
     "text": [
      "Created file: out/state/UT.json\n",
      "Created file: out/state/AZ.json\n",
      "Created file: out/state/NM.json\n"
     ]
    },
    {
     "name": "stderr",
     "output_type": "stream",
     "text": [
      "UserWarning: <function Series.to_dict> is not currently supported by PandasOnRay, defaulting to pandas implementation.\n",
      "UserWarning: <function Series.to_dict> is not currently supported by PandasOnRay, defaulting to pandas implementation.\n",
      "UserWarning: <function Series.to_dict> is not currently supported by PandasOnRay, defaulting to pandas implementation.\n"
     ]
    },
    {
     "name": "stdout",
     "output_type": "stream",
     "text": [
      "Created file: out/state/NV.json\n",
      "Created file: out/state/CA.json\n",
      "Created file: out/state/HI.json\n"
     ]
    },
    {
     "name": "stderr",
     "output_type": "stream",
     "text": [
      "UserWarning: <function Series.to_dict> is not currently supported by PandasOnRay, defaulting to pandas implementation.\n",
      "UserWarning: <function Series.to_dict> is not currently supported by PandasOnRay, defaulting to pandas implementation.\n",
      "UserWarning: <function Series.to_dict> is not currently supported by PandasOnRay, defaulting to pandas implementation.\n",
      "UserWarning: <function Series.to_dict> is not currently supported by PandasOnRay, defaulting to pandas implementation.\n"
     ]
    },
    {
     "name": "stdout",
     "output_type": "stream",
     "text": [
      "Created file: out/state/AS.json\n",
      "Created file: out/state/GU.json\n",
      "Created file: out/state/MP.json\n",
      "Created file: out/state/OR.json\n",
      "Created file: out/state/WA.json\n",
      "Created file: out/state/AK.json\n"
     ]
    },
    {
     "name": "stderr",
     "output_type": "stream",
     "text": [
      "UserWarning: <function Series.to_dict> is not currently supported by PandasOnRay, defaulting to pandas implementation.\n",
      "UserWarning: <function Series.to_dict> is not currently supported by PandasOnRay, defaulting to pandas implementation.\n"
     ]
    }
   ],
   "execution_count": 7
  },
  {
   "metadata": {
    "ExecuteTime": {
     "end_time": "2025-08-27T15:52:09.713689Z",
     "start_time": "2025-08-27T15:52:09.635360Z"
    }
   },
   "cell_type": "code",
   "source": [
    "# create a per zip json object\n",
    "df_zipcode = pd.read_csv(csv_path)\n",
    "zip_out_folder = f'{out_folder}/zipcode'\n",
    "os.makedirs(zip_out_folder, exist_ok=True)\n",
    "# print(df_zipcode.head())\n",
    "for i in range(len(df_zipcode)):\n",
    "    # zip_df = df_zipcode[df_zipcode['zip'] == zip_code]\n",
    "    # zip_dict = zip_df.to_dict(orient='records')[0]\n",
    "    zip_code = df_zipcode.iloc[i].zip\n",
    "    if (zip_code < 100):\n",
    "        zip_code = f'000{zip_code}'\n",
    "    elif (zip_code < 1000):\n",
    "        zip_code = f'00{zip_code}'\n",
    "    elif (zip_code < 10000):\n",
    "        zip_code = f'0{zip_code}'\n",
    "    else:\n",
    "        zip_code = f'{zip_code}'\n",
    "\n",
    "    file_name = f'{zip_out_folder}/{zip_code}.json'\n",
    "    with open(file_name, 'w') as json_file:\n",
    "        json.dump(df_zipcode.iloc[i].to_dict(), json_file, indent=4)\n",
    "        print(f\"Created file: {file_name}\")\n",
    "    break\n"
   ],
   "id": "bca05533700cd9c1",
   "outputs": [
    {
     "name": "stdout",
     "output_type": "stream",
     "text": [
      "Created file: out/zipcode/00601.json\n"
     ]
    },
    {
     "name": "stderr",
     "output_type": "stream",
     "text": [
      "UserWarning: <function Series.to_dict> is not currently supported by PandasOnRay, defaulting to pandas implementation.\n"
     ]
    }
   ],
   "execution_count": 17
  }
 ],
 "metadata": {
  "kernelspec": {
   "display_name": "Python 3",
   "language": "python",
   "name": "python3"
  },
  "language_info": {
   "codemirror_mode": {
    "name": "ipython",
    "version": 2
   },
   "file_extension": ".py",
   "mimetype": "text/x-python",
   "name": "python",
   "nbconvert_exporter": "python",
   "pygments_lexer": "ipython2",
   "version": "2.7.6"
  }
 },
 "nbformat": 4,
 "nbformat_minor": 5
}
